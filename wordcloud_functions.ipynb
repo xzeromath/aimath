{
 "cells": [
  {
   "cell_type": "code",
   "execution_count": 4,
   "metadata": {},
   "outputs": [],
   "source": [
    "# import import_ipynb"
   ]
  },
  {
   "cell_type": "code",
   "execution_count": 5,
   "metadata": {},
   "outputs": [
    {
     "name": "stdout",
     "output_type": "stream",
     "text": [
      "importing Jupyter notebook from myt.ipynb\n"
     ]
    }
   ],
   "source": [
    "# import myt"
   ]
  },
  {
   "cell_type": "code",
   "execution_count": 6,
   "metadata": {},
   "outputs": [
    {
     "data": {
      "text/plain": [
       "3"
      ]
     },
     "execution_count": 6,
     "metadata": {},
     "output_type": "execute_result"
    }
   ],
   "source": [
    "# myt.mytest(2)"
   ]
  },
  {
   "cell_type": "code",
   "execution_count": 11,
   "metadata": {},
   "outputs": [],
   "source": [
    "from wordcloud import WordCloud\n",
    "import matplotlib.pyplot as plt\n",
    "\n",
    "path=\"./font/NanumGothic.ttf\"\n",
    "\n",
    "def create_wc(labels=['가나다', '연습', 'vi', 'data','school','edu',\"lobot\",\"com\"],ratio=[5, 25, 10, 5,15,15,20,5]):\n",
    "    wordcloud = WordCloud(\n",
    "        font_path = path,    # 맥에선 한글폰트 설정 잘해야함.\n",
    "        background_color='white',                             # 배경 색깔 정하기\n",
    "        # colormap = 'Accent_r',                                # 폰트 색깔 정하기\n",
    "        width = 800,\n",
    "        height = 800\n",
    "    )\n",
    "    words =dict(zip(labels,ratio))\n",
    "    wc = wordcloud.generate_from_frequencies(words)\n",
    "    plt.figure(figsize=(10,10)) #이미지 사이즈 지정\n",
    "    plt.imshow(wordcloud, interpolation='lanczos') #이미지의 부드럽기 정도\n",
    "    plt.axis('off') #x y 축 숫자 제거\n",
    "#     plt.show()\n",
    "    return plt\n",
    "\n",
    "    \n",
    "\n",
    "# wc.to_file('ke.png')"
   ]
  },
  {
   "cell_type": "code",
   "execution_count": 8,
   "metadata": {},
   "outputs": [],
   "source": [
    "# import matplotlib.pyplot as plt\n",
    "\n",
    "# plt.figure(figsize=(10,10)) #이미지 사이즈 지정\n",
    "# plt.imshow(wordcloud, interpolation='lanczos') #이미지의 부드럽기 정도\n",
    "# plt.axis('off') #x y 축 숫자 제거\n",
    "# plt.show() \n"
   ]
  },
  {
   "cell_type": "code",
   "execution_count": null,
   "metadata": {},
   "outputs": [],
   "source": []
  }
 ],
 "metadata": {
  "kernelspec": {
   "display_name": "Python 3",
   "language": "python",
   "name": "python3"
  },
  "language_info": {
   "codemirror_mode": {
    "name": "ipython",
    "version": 3
   },
   "file_extension": ".py",
   "mimetype": "text/x-python",
   "name": "python",
   "nbconvert_exporter": "python",
   "pygments_lexer": "ipython3",
   "version": "3.8.5"
  }
 },
 "nbformat": 4,
 "nbformat_minor": 4
}
